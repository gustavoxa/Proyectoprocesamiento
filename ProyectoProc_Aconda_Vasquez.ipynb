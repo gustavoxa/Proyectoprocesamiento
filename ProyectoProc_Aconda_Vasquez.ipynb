{
 "cells": [
  {
   "cell_type": "markdown",
   "metadata": {},
   "source": [
    "# *Escuela Politécnica Nacional*\n",
    "### Proyecto N° 1\n",
    "### Integrantes\n",
    "#### Carlos Vasquez \n",
    "#### Gustavo Aconda\n",
    "***"
   ]
  },
  {
   "cell_type": "markdown",
   "metadata": {},
   "source": [
    "### Descripcion Del DataSet\n",
    "#### El dataset muestra alrededor de mil registros acerca de las caracteristicas que una persona tiene en el ámbito laboral.\n",
    "***"
   ]
  },
  {
   "cell_type": "markdown",
   "metadata": {},
   "source": [
    "### Objetivos\n",
    "+ Identificar las principales características, tendencias y estadísticas del conjunto de datos seleccionado.\n",
    "+ Crear modelos de regresión lineal y polinomial que predigan el total de ingresos de una persona en base a sus características laborales, usando las tecnicas vistas en clase para mejorar el modelo y su evaluación.\n",
    "+ Evaluar los modelos y determinar cuál de ellos tienen mejores métricas y por ende, mejor predicen la etiqueta de salida. \n",
    "***"
   ]
  },
  {
   "cell_type": "markdown",
   "metadata": {},
   "source": [
    "#### Características, tendencias y estadísticas del dataset."
   ]
  },
  {
   "cell_type": "code",
   "execution_count": 2,
   "metadata": {},
   "outputs": [],
   "source": [
    "#Se importan las librerias necesarias para trabajar con dataframes y vectores.\n",
    "import pandas as pd\n",
    "import numpy as np"
   ]
  },
  {
   "cell_type": "code",
   "execution_count": 4,
   "metadata": {},
   "outputs": [],
   "source": [
    "#Se lee el dataset y se lo guarda como dataframe\n",
    "df=pd.read_csv(\"Datasetproyecto.csv\")\n",
    "df=df.drop([0],axis=0);"
   ]
  },
  {
   "cell_type": "code",
   "execution_count": 5,
   "metadata": {},
   "outputs": [
    {
     "data": {
      "text/html": [
       "<div>\n",
       "<style scoped>\n",
       "    .dataframe tbody tr th:only-of-type {\n",
       "        vertical-align: middle;\n",
       "    }\n",
       "\n",
       "    .dataframe tbody tr th {\n",
       "        vertical-align: top;\n",
       "    }\n",
       "\n",
       "    .dataframe thead th {\n",
       "        text-align: right;\n",
       "    }\n",
       "</style>\n",
       "<table border=\"1\" class=\"dataframe\">\n",
       "  <thead>\n",
       "    <tr style=\"text-align: right;\">\n",
       "      <th></th>\n",
       "      <th>Puesto Institucional</th>\n",
       "      <th>Grado jerarquico o escala al que pertenece el puesto</th>\n",
       "      <th>Remuneracion mensual unificada</th>\n",
       "      <th>Remuneracion unificada (anual)</th>\n",
       "      <th>Decimo Tercera Remuneracion</th>\n",
       "      <th>Decima Cuarta Remuneracion</th>\n",
       "      <th>Horas suplementarias y extraordinarias</th>\n",
       "      <th>Encargos y subrogaciones</th>\n",
       "      <th>Total ingresos adicionales</th>\n",
       "    </tr>\n",
       "  </thead>\n",
       "  <tbody>\n",
       "    <tr>\n",
       "      <th>1</th>\n",
       "      <td>SUPERINTENDENTE DE MANTENIMIENTO</td>\n",
       "      <td>6</td>\n",
       "      <td>5250.0</td>\n",
       "      <td>63000.0</td>\n",
       "      <td>437.50</td>\n",
       "      <td>31.25</td>\n",
       "      <td>0.0</td>\n",
       "      <td>0.0</td>\n",
       "      <td>468.75</td>\n",
       "    </tr>\n",
       "    <tr>\n",
       "      <th>2</th>\n",
       "      <td>SUPERVISOR RCRS</td>\n",
       "      <td>5</td>\n",
       "      <td>3300.0</td>\n",
       "      <td>39600.0</td>\n",
       "      <td>275.00</td>\n",
       "      <td>31.25</td>\n",
       "      <td>0.0</td>\n",
       "      <td>0.0</td>\n",
       "      <td>306.25</td>\n",
       "    </tr>\n",
       "    <tr>\n",
       "      <th>3</th>\n",
       "      <td>MENSAJERO</td>\n",
       "      <td>1</td>\n",
       "      <td>962.0</td>\n",
       "      <td>11544.0</td>\n",
       "      <td>80.17</td>\n",
       "      <td>31.25</td>\n",
       "      <td>0.0</td>\n",
       "      <td>0.0</td>\n",
       "      <td>111.42</td>\n",
       "    </tr>\n",
       "    <tr>\n",
       "      <th>4</th>\n",
       "      <td>AUXILIAR DE CAFETERIA</td>\n",
       "      <td>1</td>\n",
       "      <td>779.0</td>\n",
       "      <td>9348.0</td>\n",
       "      <td>64.92</td>\n",
       "      <td>31.25</td>\n",
       "      <td>0.0</td>\n",
       "      <td>0.0</td>\n",
       "      <td>96.17</td>\n",
       "    </tr>\n",
       "    <tr>\n",
       "      <th>5</th>\n",
       "      <td>AUXILIAR DE CAFETERIA</td>\n",
       "      <td>1</td>\n",
       "      <td>784.0</td>\n",
       "      <td>9408.0</td>\n",
       "      <td>65.33</td>\n",
       "      <td>31.25</td>\n",
       "      <td>0.0</td>\n",
       "      <td>0.0</td>\n",
       "      <td>96.58</td>\n",
       "    </tr>\n",
       "  </tbody>\n",
       "</table>\n",
       "</div>"
      ],
      "text/plain": [
       "               Puesto Institucional  \\\n",
       "1  SUPERINTENDENTE DE MANTENIMIENTO   \n",
       "2                   SUPERVISOR RCRS   \n",
       "3                         MENSAJERO   \n",
       "4             AUXILIAR DE CAFETERIA   \n",
       "5             AUXILIAR DE CAFETERIA   \n",
       "\n",
       "   Grado jerarquico o escala al que pertenece el puesto  \\\n",
       "1                                                  6      \n",
       "2                                                  5      \n",
       "3                                                  1      \n",
       "4                                                  1      \n",
       "5                                                  1      \n",
       "\n",
       "   Remuneracion mensual unificada  Remuneracion unificada (anual)  \\\n",
       "1                          5250.0                         63000.0   \n",
       "2                          3300.0                         39600.0   \n",
       "3                           962.0                         11544.0   \n",
       "4                           779.0                          9348.0   \n",
       "5                           784.0                          9408.0   \n",
       "\n",
       "   Decimo Tercera Remuneracion  Decima Cuarta Remuneracion  \\\n",
       "1                       437.50                       31.25   \n",
       "2                       275.00                       31.25   \n",
       "3                        80.17                       31.25   \n",
       "4                        64.92                       31.25   \n",
       "5                        65.33                       31.25   \n",
       "\n",
       "   Horas suplementarias y extraordinarias  Encargos y subrogaciones  \\\n",
       "1                                     0.0                       0.0   \n",
       "2                                     0.0                       0.0   \n",
       "3                                     0.0                       0.0   \n",
       "4                                     0.0                       0.0   \n",
       "5                                     0.0                       0.0   \n",
       "\n",
       "   Total ingresos adicionales  \n",
       "1                      468.75  \n",
       "2                      306.25  \n",
       "3                      111.42  \n",
       "4                       96.17  \n",
       "5                       96.58  "
      ]
     },
     "execution_count": 5,
     "metadata": {},
     "output_type": "execute_result"
    }
   ],
   "source": [
    "#Se muestran los 5 primeros valores para identificar las variables\n",
    "df.head()"
   ]
  },
  {
   "cell_type": "code",
   "execution_count": 6,
   "metadata": {},
   "outputs": [
    {
     "data": {
      "text/plain": [
       "(10278, 9)"
      ]
     },
     "execution_count": 6,
     "metadata": {},
     "output_type": "execute_result"
    }
   ],
   "source": [
    "#Se muestra el numero de registros y variables\n",
    "df.shape"
   ]
  },
  {
   "cell_type": "code",
   "execution_count": 7,
   "metadata": {},
   "outputs": [],
   "source": [
    "#Se crea la cabecera del dataframe\n",
    "df.columns=[\"PuestoInstitucional\",\"Gradojerarquicooescalaalqueperteneceelpuesto\",\"Remuneracionmensualunificada\",\"Remuneracionunificadaanual\",\"DecimoTerceraRemuneracion\",\"DecimaCuartaRemuneracion\",\"Horassuplementariasyextraordinarias\",\"Encargosysubrogaciones\",\"Totalingresosadicionales\"]"
   ]
  },
  {
   "cell_type": "code",
   "execution_count": 8,
   "metadata": {},
   "outputs": [
    {
     "data": {
      "text/html": [
       "<div>\n",
       "<style scoped>\n",
       "    .dataframe tbody tr th:only-of-type {\n",
       "        vertical-align: middle;\n",
       "    }\n",
       "\n",
       "    .dataframe tbody tr th {\n",
       "        vertical-align: top;\n",
       "    }\n",
       "\n",
       "    .dataframe thead th {\n",
       "        text-align: right;\n",
       "    }\n",
       "</style>\n",
       "<table border=\"1\" class=\"dataframe\">\n",
       "  <thead>\n",
       "    <tr style=\"text-align: right;\">\n",
       "      <th></th>\n",
       "      <th>PuestoInstitucional</th>\n",
       "      <th>Gradojerarquicooescalaalqueperteneceelpuesto</th>\n",
       "      <th>Remuneracionmensualunificada</th>\n",
       "      <th>Remuneracionunificadaanual</th>\n",
       "      <th>DecimoTerceraRemuneracion</th>\n",
       "      <th>DecimaCuartaRemuneracion</th>\n",
       "      <th>Horassuplementariasyextraordinarias</th>\n",
       "      <th>Encargosysubrogaciones</th>\n",
       "      <th>Totalingresosadicionales</th>\n",
       "    </tr>\n",
       "  </thead>\n",
       "  <tbody>\n",
       "    <tr>\n",
       "      <th>1</th>\n",
       "      <td>SUPERINTENDENTE DE MANTENIMIENTO</td>\n",
       "      <td>6</td>\n",
       "      <td>5250.0</td>\n",
       "      <td>63000.0</td>\n",
       "      <td>437.50</td>\n",
       "      <td>31.25</td>\n",
       "      <td>0.0</td>\n",
       "      <td>0.0</td>\n",
       "      <td>468.75</td>\n",
       "    </tr>\n",
       "    <tr>\n",
       "      <th>2</th>\n",
       "      <td>SUPERVISOR RCRS</td>\n",
       "      <td>5</td>\n",
       "      <td>3300.0</td>\n",
       "      <td>39600.0</td>\n",
       "      <td>275.00</td>\n",
       "      <td>31.25</td>\n",
       "      <td>0.0</td>\n",
       "      <td>0.0</td>\n",
       "      <td>306.25</td>\n",
       "    </tr>\n",
       "    <tr>\n",
       "      <th>3</th>\n",
       "      <td>MENSAJERO</td>\n",
       "      <td>1</td>\n",
       "      <td>962.0</td>\n",
       "      <td>11544.0</td>\n",
       "      <td>80.17</td>\n",
       "      <td>31.25</td>\n",
       "      <td>0.0</td>\n",
       "      <td>0.0</td>\n",
       "      <td>111.42</td>\n",
       "    </tr>\n",
       "    <tr>\n",
       "      <th>4</th>\n",
       "      <td>AUXILIAR DE CAFETERIA</td>\n",
       "      <td>1</td>\n",
       "      <td>779.0</td>\n",
       "      <td>9348.0</td>\n",
       "      <td>64.92</td>\n",
       "      <td>31.25</td>\n",
       "      <td>0.0</td>\n",
       "      <td>0.0</td>\n",
       "      <td>96.17</td>\n",
       "    </tr>\n",
       "    <tr>\n",
       "      <th>5</th>\n",
       "      <td>AUXILIAR DE CAFETERIA</td>\n",
       "      <td>1</td>\n",
       "      <td>784.0</td>\n",
       "      <td>9408.0</td>\n",
       "      <td>65.33</td>\n",
       "      <td>31.25</td>\n",
       "      <td>0.0</td>\n",
       "      <td>0.0</td>\n",
       "      <td>96.58</td>\n",
       "    </tr>\n",
       "  </tbody>\n",
       "</table>\n",
       "</div>"
      ],
      "text/plain": [
       "                PuestoInstitucional  \\\n",
       "1  SUPERINTENDENTE DE MANTENIMIENTO   \n",
       "2                   SUPERVISOR RCRS   \n",
       "3                         MENSAJERO   \n",
       "4             AUXILIAR DE CAFETERIA   \n",
       "5             AUXILIAR DE CAFETERIA   \n",
       "\n",
       "   Gradojerarquicooescalaalqueperteneceelpuesto  Remuneracionmensualunificada  \\\n",
       "1                                             6                        5250.0   \n",
       "2                                             5                        3300.0   \n",
       "3                                             1                         962.0   \n",
       "4                                             1                         779.0   \n",
       "5                                             1                         784.0   \n",
       "\n",
       "   Remuneracionunificadaanual  DecimoTerceraRemuneracion  \\\n",
       "1                     63000.0                     437.50   \n",
       "2                     39600.0                     275.00   \n",
       "3                     11544.0                      80.17   \n",
       "4                      9348.0                      64.92   \n",
       "5                      9408.0                      65.33   \n",
       "\n",
       "   DecimaCuartaRemuneracion  Horassuplementariasyextraordinarias  \\\n",
       "1                     31.25                                  0.0   \n",
       "2                     31.25                                  0.0   \n",
       "3                     31.25                                  0.0   \n",
       "4                     31.25                                  0.0   \n",
       "5                     31.25                                  0.0   \n",
       "\n",
       "   Encargosysubrogaciones  Totalingresosadicionales  \n",
       "1                     0.0                    468.75  \n",
       "2                     0.0                    306.25  \n",
       "3                     0.0                    111.42  \n",
       "4                     0.0                     96.17  \n",
       "5                     0.0                     96.58  "
      ]
     },
     "execution_count": 8,
     "metadata": {},
     "output_type": "execute_result"
    }
   ],
   "source": [
    "df.head()"
   ]
  },
  {
   "cell_type": "code",
   "execution_count": 9,
   "metadata": {},
   "outputs": [
    {
     "data": {
      "text/plain": [
       "PuestoInstitucional                              object\n",
       "Gradojerarquicooescalaalqueperteneceelpuesto      int64\n",
       "Remuneracionmensualunificada                    float64\n",
       "Remuneracionunificadaanual                      float64\n",
       "DecimoTerceraRemuneracion                       float64\n",
       "DecimaCuartaRemuneracion                        float64\n",
       "Horassuplementariasyextraordinarias             float64\n",
       "Encargosysubrogaciones                          float64\n",
       "Totalingresosadicionales                        float64\n",
       "dtype: object"
      ]
     },
     "execution_count": 9,
     "metadata": {},
     "output_type": "execute_result"
    }
   ],
   "source": [
    "#Se muestra el tipo de dato de las variables\n",
    "df.dtypes"
   ]
  },
  {
   "cell_type": "code",
   "execution_count": 10,
   "metadata": {},
   "outputs": [],
   "source": [
    "#Se cambia el tipo de dato a numerico\n",
    "df[\"Gradojerarquicooescalaalqueperteneceelpuesto\"]=df[\"Gradojerarquicooescalaalqueperteneceelpuesto\"].apply(pd.to_numeric)"
   ]
  },
  {
   "cell_type": "code",
   "execution_count": 11,
   "metadata": {},
   "outputs": [],
   "source": [
    "#Se cambia todos los datos numericos a float\n",
    "df[\"Remuneracionmensualunificada\"]=df[\"Remuneracionmensualunificada\"].astype(float)\n",
    "df[\"Remuneracionunificadaanual\"]=df[\"Remuneracionunificadaanual\"].astype(float)\n",
    "df[\"DecimoTerceraRemuneracion\"]=df[\"DecimoTerceraRemuneracion\"].astype(float)\n",
    "df[\"DecimaCuartaRemuneracion\"]=df[\"DecimaCuartaRemuneracion\"].astype(float)\n",
    "df[\"Horassuplementariasyextraordinarias\"]=df[\"Horassuplementariasyextraordinarias\"].astype(float)\n",
    "df[\"Encargosysubrogaciones\"]=df[\"Encargosysubrogaciones\"].astype(float)\n",
    "df[\"Totalingresosadicionales\"]=df[\"Totalingresosadicionales\"].astype(float)"
   ]
  },
  {
   "cell_type": "code",
   "execution_count": 12,
   "metadata": {},
   "outputs": [
    {
     "data": {
      "text/html": [
       "<div>\n",
       "<style scoped>\n",
       "    .dataframe tbody tr th:only-of-type {\n",
       "        vertical-align: middle;\n",
       "    }\n",
       "\n",
       "    .dataframe tbody tr th {\n",
       "        vertical-align: top;\n",
       "    }\n",
       "\n",
       "    .dataframe thead th {\n",
       "        text-align: right;\n",
       "    }\n",
       "</style>\n",
       "<table border=\"1\" class=\"dataframe\">\n",
       "  <thead>\n",
       "    <tr style=\"text-align: right;\">\n",
       "      <th></th>\n",
       "      <th>PuestoInstitucional</th>\n",
       "      <th>Gradojerarquicooescalaalqueperteneceelpuesto</th>\n",
       "      <th>Remuneracionmensualunificada</th>\n",
       "      <th>Remuneracionunificadaanual</th>\n",
       "      <th>DecimoTerceraRemuneracion</th>\n",
       "      <th>DecimaCuartaRemuneracion</th>\n",
       "      <th>Horassuplementariasyextraordinarias</th>\n",
       "      <th>Encargosysubrogaciones</th>\n",
       "      <th>Totalingresosadicionales</th>\n",
       "    </tr>\n",
       "  </thead>\n",
       "  <tbody>\n",
       "    <tr>\n",
       "      <th>1</th>\n",
       "      <td>SUPERINTENDENTE DE MANTENIMIENTO</td>\n",
       "      <td>6</td>\n",
       "      <td>5250.00</td>\n",
       "      <td>63000.0</td>\n",
       "      <td>437.50</td>\n",
       "      <td>31.25</td>\n",
       "      <td>0.00</td>\n",
       "      <td>0.0</td>\n",
       "      <td>468.75</td>\n",
       "    </tr>\n",
       "    <tr>\n",
       "      <th>2</th>\n",
       "      <td>SUPERVISOR RCRS</td>\n",
       "      <td>5</td>\n",
       "      <td>3300.00</td>\n",
       "      <td>39600.0</td>\n",
       "      <td>275.00</td>\n",
       "      <td>31.25</td>\n",
       "      <td>0.00</td>\n",
       "      <td>0.0</td>\n",
       "      <td>306.25</td>\n",
       "    </tr>\n",
       "    <tr>\n",
       "      <th>3</th>\n",
       "      <td>MENSAJERO</td>\n",
       "      <td>1</td>\n",
       "      <td>962.00</td>\n",
       "      <td>11544.0</td>\n",
       "      <td>80.17</td>\n",
       "      <td>31.25</td>\n",
       "      <td>0.00</td>\n",
       "      <td>0.0</td>\n",
       "      <td>111.42</td>\n",
       "    </tr>\n",
       "    <tr>\n",
       "      <th>4</th>\n",
       "      <td>AUXILIAR DE CAFETERIA</td>\n",
       "      <td>1</td>\n",
       "      <td>779.00</td>\n",
       "      <td>9348.0</td>\n",
       "      <td>64.92</td>\n",
       "      <td>31.25</td>\n",
       "      <td>0.00</td>\n",
       "      <td>0.0</td>\n",
       "      <td>96.17</td>\n",
       "    </tr>\n",
       "    <tr>\n",
       "      <th>5</th>\n",
       "      <td>AUXILIAR DE CAFETERIA</td>\n",
       "      <td>1</td>\n",
       "      <td>784.00</td>\n",
       "      <td>9408.0</td>\n",
       "      <td>65.33</td>\n",
       "      <td>31.25</td>\n",
       "      <td>0.00</td>\n",
       "      <td>0.0</td>\n",
       "      <td>96.58</td>\n",
       "    </tr>\n",
       "    <tr>\n",
       "      <th>6</th>\n",
       "      <td>MENSAJERO</td>\n",
       "      <td>1</td>\n",
       "      <td>784.00</td>\n",
       "      <td>9408.0</td>\n",
       "      <td>65.33</td>\n",
       "      <td>31.25</td>\n",
       "      <td>0.00</td>\n",
       "      <td>0.0</td>\n",
       "      <td>96.58</td>\n",
       "    </tr>\n",
       "    <tr>\n",
       "      <th>7</th>\n",
       "      <td>JEFE DE CONTROL DE QUIMICOS</td>\n",
       "      <td>6</td>\n",
       "      <td>6146.00</td>\n",
       "      <td>73752.0</td>\n",
       "      <td>512.17</td>\n",
       "      <td>31.25</td>\n",
       "      <td>0.00</td>\n",
       "      <td>0.0</td>\n",
       "      <td>543.42</td>\n",
       "    </tr>\n",
       "    <tr>\n",
       "      <th>8</th>\n",
       "      <td>ASISTENTE ADMINISTRATIVA</td>\n",
       "      <td>2</td>\n",
       "      <td>1100.00</td>\n",
       "      <td>13200.0</td>\n",
       "      <td>91.67</td>\n",
       "      <td>31.25</td>\n",
       "      <td>0.00</td>\n",
       "      <td>0.0</td>\n",
       "      <td>122.92</td>\n",
       "    </tr>\n",
       "    <tr>\n",
       "      <th>9</th>\n",
       "      <td>ASISTENTE DE ARCHIVO</td>\n",
       "      <td>2</td>\n",
       "      <td>1131.00</td>\n",
       "      <td>13572.0</td>\n",
       "      <td>94.25</td>\n",
       "      <td>31.25</td>\n",
       "      <td>0.00</td>\n",
       "      <td>0.0</td>\n",
       "      <td>125.50</td>\n",
       "    </tr>\n",
       "    <tr>\n",
       "      <th>10</th>\n",
       "      <td>ASISTENTE DE ARCHIVO</td>\n",
       "      <td>2</td>\n",
       "      <td>1284.00</td>\n",
       "      <td>15408.0</td>\n",
       "      <td>107.00</td>\n",
       "      <td>31.25</td>\n",
       "      <td>0.00</td>\n",
       "      <td>0.0</td>\n",
       "      <td>138.25</td>\n",
       "    </tr>\n",
       "    <tr>\n",
       "      <th>11</th>\n",
       "      <td>JEFE DE CAMPO</td>\n",
       "      <td>7</td>\n",
       "      <td>6100.00</td>\n",
       "      <td>73200.0</td>\n",
       "      <td>508.33</td>\n",
       "      <td>31.25</td>\n",
       "      <td>0.00</td>\n",
       "      <td>0.0</td>\n",
       "      <td>539.58</td>\n",
       "    </tr>\n",
       "    <tr>\n",
       "      <th>12</th>\n",
       "      <td>RESERVORISTA</td>\n",
       "      <td>5</td>\n",
       "      <td>4213.65</td>\n",
       "      <td>50563.8</td>\n",
       "      <td>351.14</td>\n",
       "      <td>31.25</td>\n",
       "      <td>0.00</td>\n",
       "      <td>0.0</td>\n",
       "      <td>382.39</td>\n",
       "    </tr>\n",
       "    <tr>\n",
       "      <th>13</th>\n",
       "      <td>TÉCNICO ELÉCTRICO (PLANTA DE GENERACIÓN)</td>\n",
       "      <td>3</td>\n",
       "      <td>2257.00</td>\n",
       "      <td>27084.0</td>\n",
       "      <td>188.08</td>\n",
       "      <td>31.25</td>\n",
       "      <td>0.00</td>\n",
       "      <td>0.0</td>\n",
       "      <td>219.33</td>\n",
       "    </tr>\n",
       "    <tr>\n",
       "      <th>14</th>\n",
       "      <td>INGENIERO DE CORROSIÓN Y QUÍMICOS</td>\n",
       "      <td>5</td>\n",
       "      <td>3217.00</td>\n",
       "      <td>38604.0</td>\n",
       "      <td>268.08</td>\n",
       "      <td>31.25</td>\n",
       "      <td>0.00</td>\n",
       "      <td>0.0</td>\n",
       "      <td>299.33</td>\n",
       "    </tr>\n",
       "    <tr>\n",
       "      <th>15</th>\n",
       "      <td>SUPERVISOR DE INSTRUMENTACIÓN</td>\n",
       "      <td>5</td>\n",
       "      <td>4097.00</td>\n",
       "      <td>49164.0</td>\n",
       "      <td>357.78</td>\n",
       "      <td>31.25</td>\n",
       "      <td>196.31</td>\n",
       "      <td>0.0</td>\n",
       "      <td>585.34</td>\n",
       "    </tr>\n",
       "    <tr>\n",
       "      <th>16</th>\n",
       "      <td>SUPERINTENDENTE DE RCRS ( E )</td>\n",
       "      <td>6</td>\n",
       "      <td>3849.00</td>\n",
       "      <td>46188.0</td>\n",
       "      <td>320.75</td>\n",
       "      <td>31.25</td>\n",
       "      <td>0.00</td>\n",
       "      <td>512.0</td>\n",
       "      <td>864.00</td>\n",
       "    </tr>\n",
       "    <tr>\n",
       "      <th>17</th>\n",
       "      <td>BODEGUERO</td>\n",
       "      <td>2</td>\n",
       "      <td>1418.00</td>\n",
       "      <td>17016.0</td>\n",
       "      <td>124.08</td>\n",
       "      <td>31.25</td>\n",
       "      <td>70.90</td>\n",
       "      <td>0.0</td>\n",
       "      <td>226.23</td>\n",
       "    </tr>\n",
       "    <tr>\n",
       "      <th>18</th>\n",
       "      <td>SUPERINTENDENTE DE OPERACIONES  ( S )</td>\n",
       "      <td>6</td>\n",
       "      <td>3360.00</td>\n",
       "      <td>40320.0</td>\n",
       "      <td>280.00</td>\n",
       "      <td>31.25</td>\n",
       "      <td>0.00</td>\n",
       "      <td>1607.0</td>\n",
       "      <td>1918.25</td>\n",
       "    </tr>\n",
       "    <tr>\n",
       "      <th>19</th>\n",
       "      <td>SUPERINTENDENTE DE SEGURIDAD</td>\n",
       "      <td>5</td>\n",
       "      <td>4361.00</td>\n",
       "      <td>52332.0</td>\n",
       "      <td>363.42</td>\n",
       "      <td>31.25</td>\n",
       "      <td>0.00</td>\n",
       "      <td>0.0</td>\n",
       "      <td>394.67</td>\n",
       "    </tr>\n",
       "    <tr>\n",
       "      <th>20</th>\n",
       "      <td>SUPERVISOR DE PRODUCCIÓN ( E )</td>\n",
       "      <td>5</td>\n",
       "      <td>2568.00</td>\n",
       "      <td>30816.0</td>\n",
       "      <td>249.67</td>\n",
       "      <td>31.25</td>\n",
       "      <td>428.00</td>\n",
       "      <td>0.0</td>\n",
       "      <td>708.92</td>\n",
       "    </tr>\n",
       "  </tbody>\n",
       "</table>\n",
       "</div>"
      ],
      "text/plain": [
       "                         PuestoInstitucional  \\\n",
       "1           SUPERINTENDENTE DE MANTENIMIENTO   \n",
       "2                            SUPERVISOR RCRS   \n",
       "3                                  MENSAJERO   \n",
       "4                      AUXILIAR DE CAFETERIA   \n",
       "5                      AUXILIAR DE CAFETERIA   \n",
       "6                                  MENSAJERO   \n",
       "7                JEFE DE CONTROL DE QUIMICOS   \n",
       "8                   ASISTENTE ADMINISTRATIVA   \n",
       "9                       ASISTENTE DE ARCHIVO   \n",
       "10                      ASISTENTE DE ARCHIVO   \n",
       "11                             JEFE DE CAMPO   \n",
       "12                              RESERVORISTA   \n",
       "13  TÉCNICO ELÉCTRICO (PLANTA DE GENERACIÓN)   \n",
       "14         INGENIERO DE CORROSIÓN Y QUÍMICOS   \n",
       "15             SUPERVISOR DE INSTRUMENTACIÓN   \n",
       "16             SUPERINTENDENTE DE RCRS ( E )   \n",
       "17                                 BODEGUERO   \n",
       "18     SUPERINTENDENTE DE OPERACIONES  ( S )   \n",
       "19              SUPERINTENDENTE DE SEGURIDAD   \n",
       "20            SUPERVISOR DE PRODUCCIÓN ( E )   \n",
       "\n",
       "    Gradojerarquicooescalaalqueperteneceelpuesto  \\\n",
       "1                                              6   \n",
       "2                                              5   \n",
       "3                                              1   \n",
       "4                                              1   \n",
       "5                                              1   \n",
       "6                                              1   \n",
       "7                                              6   \n",
       "8                                              2   \n",
       "9                                              2   \n",
       "10                                             2   \n",
       "11                                             7   \n",
       "12                                             5   \n",
       "13                                             3   \n",
       "14                                             5   \n",
       "15                                             5   \n",
       "16                                             6   \n",
       "17                                             2   \n",
       "18                                             6   \n",
       "19                                             5   \n",
       "20                                             5   \n",
       "\n",
       "    Remuneracionmensualunificada  Remuneracionunificadaanual  \\\n",
       "1                        5250.00                     63000.0   \n",
       "2                        3300.00                     39600.0   \n",
       "3                         962.00                     11544.0   \n",
       "4                         779.00                      9348.0   \n",
       "5                         784.00                      9408.0   \n",
       "6                         784.00                      9408.0   \n",
       "7                        6146.00                     73752.0   \n",
       "8                        1100.00                     13200.0   \n",
       "9                        1131.00                     13572.0   \n",
       "10                       1284.00                     15408.0   \n",
       "11                       6100.00                     73200.0   \n",
       "12                       4213.65                     50563.8   \n",
       "13                       2257.00                     27084.0   \n",
       "14                       3217.00                     38604.0   \n",
       "15                       4097.00                     49164.0   \n",
       "16                       3849.00                     46188.0   \n",
       "17                       1418.00                     17016.0   \n",
       "18                       3360.00                     40320.0   \n",
       "19                       4361.00                     52332.0   \n",
       "20                       2568.00                     30816.0   \n",
       "\n",
       "    DecimoTerceraRemuneracion  DecimaCuartaRemuneracion  \\\n",
       "1                      437.50                     31.25   \n",
       "2                      275.00                     31.25   \n",
       "3                       80.17                     31.25   \n",
       "4                       64.92                     31.25   \n",
       "5                       65.33                     31.25   \n",
       "6                       65.33                     31.25   \n",
       "7                      512.17                     31.25   \n",
       "8                       91.67                     31.25   \n",
       "9                       94.25                     31.25   \n",
       "10                     107.00                     31.25   \n",
       "11                     508.33                     31.25   \n",
       "12                     351.14                     31.25   \n",
       "13                     188.08                     31.25   \n",
       "14                     268.08                     31.25   \n",
       "15                     357.78                     31.25   \n",
       "16                     320.75                     31.25   \n",
       "17                     124.08                     31.25   \n",
       "18                     280.00                     31.25   \n",
       "19                     363.42                     31.25   \n",
       "20                     249.67                     31.25   \n",
       "\n",
       "    Horassuplementariasyextraordinarias  Encargosysubrogaciones  \\\n",
       "1                                  0.00                     0.0   \n",
       "2                                  0.00                     0.0   \n",
       "3                                  0.00                     0.0   \n",
       "4                                  0.00                     0.0   \n",
       "5                                  0.00                     0.0   \n",
       "6                                  0.00                     0.0   \n",
       "7                                  0.00                     0.0   \n",
       "8                                  0.00                     0.0   \n",
       "9                                  0.00                     0.0   \n",
       "10                                 0.00                     0.0   \n",
       "11                                 0.00                     0.0   \n",
       "12                                 0.00                     0.0   \n",
       "13                                 0.00                     0.0   \n",
       "14                                 0.00                     0.0   \n",
       "15                               196.31                     0.0   \n",
       "16                                 0.00                   512.0   \n",
       "17                                70.90                     0.0   \n",
       "18                                 0.00                  1607.0   \n",
       "19                                 0.00                     0.0   \n",
       "20                               428.00                     0.0   \n",
       "\n",
       "    Totalingresosadicionales  \n",
       "1                     468.75  \n",
       "2                     306.25  \n",
       "3                     111.42  \n",
       "4                      96.17  \n",
       "5                      96.58  \n",
       "6                      96.58  \n",
       "7                     543.42  \n",
       "8                     122.92  \n",
       "9                     125.50  \n",
       "10                    138.25  \n",
       "11                    539.58  \n",
       "12                    382.39  \n",
       "13                    219.33  \n",
       "14                    299.33  \n",
       "15                    585.34  \n",
       "16                    864.00  \n",
       "17                    226.23  \n",
       "18                   1918.25  \n",
       "19                    394.67  \n",
       "20                    708.92  "
      ]
     },
     "execution_count": 12,
     "metadata": {},
     "output_type": "execute_result"
    }
   ],
   "source": [
    "#Se muestran los 20 primeros registros\n",
    "df.head(20)"
   ]
  },
  {
   "cell_type": "code",
   "execution_count": 13,
   "metadata": {},
   "outputs": [
    {
     "data": {
      "text/html": [
       "<div>\n",
       "<style scoped>\n",
       "    .dataframe tbody tr th:only-of-type {\n",
       "        vertical-align: middle;\n",
       "    }\n",
       "\n",
       "    .dataframe tbody tr th {\n",
       "        vertical-align: top;\n",
       "    }\n",
       "\n",
       "    .dataframe thead th {\n",
       "        text-align: right;\n",
       "    }\n",
       "</style>\n",
       "<table border=\"1\" class=\"dataframe\">\n",
       "  <thead>\n",
       "    <tr style=\"text-align: right;\">\n",
       "      <th></th>\n",
       "      <th>Gradojerarquicooescalaalqueperteneceelpuesto</th>\n",
       "      <th>Remuneracionmensualunificada</th>\n",
       "      <th>Remuneracionunificadaanual</th>\n",
       "      <th>DecimoTerceraRemuneracion</th>\n",
       "      <th>DecimaCuartaRemuneracion</th>\n",
       "      <th>Horassuplementariasyextraordinarias</th>\n",
       "      <th>Encargosysubrogaciones</th>\n",
       "      <th>Totalingresosadicionales</th>\n",
       "    </tr>\n",
       "  </thead>\n",
       "  <tbody>\n",
       "    <tr>\n",
       "      <th>count</th>\n",
       "      <td>10278.000000</td>\n",
       "      <td>10278.000000</td>\n",
       "      <td>10278.000000</td>\n",
       "      <td>10278.000000</td>\n",
       "      <td>10278.000000</td>\n",
       "      <td>10278.000000</td>\n",
       "      <td>10278.000000</td>\n",
       "      <td>10278.000000</td>\n",
       "    </tr>\n",
       "    <tr>\n",
       "      <th>mean</th>\n",
       "      <td>2.781280</td>\n",
       "      <td>1402.857275</td>\n",
       "      <td>16834.287297</td>\n",
       "      <td>120.844457</td>\n",
       "      <td>31.239155</td>\n",
       "      <td>46.759352</td>\n",
       "      <td>89.474171</td>\n",
       "      <td>288.317136</td>\n",
       "    </tr>\n",
       "    <tr>\n",
       "      <th>std</th>\n",
       "      <td>1.596566</td>\n",
       "      <td>1072.107958</td>\n",
       "      <td>12865.295495</td>\n",
       "      <td>91.988766</td>\n",
       "      <td>0.346946</td>\n",
       "      <td>149.558952</td>\n",
       "      <td>282.039880</td>\n",
       "      <td>337.453392</td>\n",
       "    </tr>\n",
       "    <tr>\n",
       "      <th>min</th>\n",
       "      <td>1.000000</td>\n",
       "      <td>465.000000</td>\n",
       "      <td>5580.000000</td>\n",
       "      <td>37.460000</td>\n",
       "      <td>15.620000</td>\n",
       "      <td>0.000000</td>\n",
       "      <td>-641.420000</td>\n",
       "      <td>-473.360000</td>\n",
       "    </tr>\n",
       "    <tr>\n",
       "      <th>25%</th>\n",
       "      <td>1.000000</td>\n",
       "      <td>574.000000</td>\n",
       "      <td>6888.000000</td>\n",
       "      <td>48.420000</td>\n",
       "      <td>31.250000</td>\n",
       "      <td>0.000000</td>\n",
       "      <td>0.000000</td>\n",
       "      <td>97.580000</td>\n",
       "    </tr>\n",
       "    <tr>\n",
       "      <th>50%</th>\n",
       "      <td>3.000000</td>\n",
       "      <td>1087.000000</td>\n",
       "      <td>13044.000000</td>\n",
       "      <td>91.370000</td>\n",
       "      <td>31.250000</td>\n",
       "      <td>0.000000</td>\n",
       "      <td>0.000000</td>\n",
       "      <td>197.830000</td>\n",
       "    </tr>\n",
       "    <tr>\n",
       "      <th>75%</th>\n",
       "      <td>4.000000</td>\n",
       "      <td>1886.150000</td>\n",
       "      <td>22633.800000</td>\n",
       "      <td>164.375000</td>\n",
       "      <td>31.250000</td>\n",
       "      <td>20.290000</td>\n",
       "      <td>0.000000</td>\n",
       "      <td>311.900000</td>\n",
       "    </tr>\n",
       "    <tr>\n",
       "      <th>max</th>\n",
       "      <td>8.000000</td>\n",
       "      <td>8437.500000</td>\n",
       "      <td>101250.000000</td>\n",
       "      <td>703.120000</td>\n",
       "      <td>31.250000</td>\n",
       "      <td>2844.980000</td>\n",
       "      <td>5284.000000</td>\n",
       "      <td>5391.580000</td>\n",
       "    </tr>\n",
       "  </tbody>\n",
       "</table>\n",
       "</div>"
      ],
      "text/plain": [
       "       Gradojerarquicooescalaalqueperteneceelpuesto  \\\n",
       "count                                  10278.000000   \n",
       "mean                                       2.781280   \n",
       "std                                        1.596566   \n",
       "min                                        1.000000   \n",
       "25%                                        1.000000   \n",
       "50%                                        3.000000   \n",
       "75%                                        4.000000   \n",
       "max                                        8.000000   \n",
       "\n",
       "       Remuneracionmensualunificada  Remuneracionunificadaanual  \\\n",
       "count                  10278.000000                10278.000000   \n",
       "mean                    1402.857275                16834.287297   \n",
       "std                     1072.107958                12865.295495   \n",
       "min                      465.000000                 5580.000000   \n",
       "25%                      574.000000                 6888.000000   \n",
       "50%                     1087.000000                13044.000000   \n",
       "75%                     1886.150000                22633.800000   \n",
       "max                     8437.500000               101250.000000   \n",
       "\n",
       "       DecimoTerceraRemuneracion  DecimaCuartaRemuneracion  \\\n",
       "count               10278.000000              10278.000000   \n",
       "mean                  120.844457                 31.239155   \n",
       "std                    91.988766                  0.346946   \n",
       "min                    37.460000                 15.620000   \n",
       "25%                    48.420000                 31.250000   \n",
       "50%                    91.370000                 31.250000   \n",
       "75%                   164.375000                 31.250000   \n",
       "max                   703.120000                 31.250000   \n",
       "\n",
       "       Horassuplementariasyextraordinarias  Encargosysubrogaciones  \\\n",
       "count                         10278.000000            10278.000000   \n",
       "mean                             46.759352               89.474171   \n",
       "std                             149.558952              282.039880   \n",
       "min                               0.000000             -641.420000   \n",
       "25%                               0.000000                0.000000   \n",
       "50%                               0.000000                0.000000   \n",
       "75%                              20.290000                0.000000   \n",
       "max                            2844.980000             5284.000000   \n",
       "\n",
       "       Totalingresosadicionales  \n",
       "count              10278.000000  \n",
       "mean                 288.317136  \n",
       "std                  337.453392  \n",
       "min                 -473.360000  \n",
       "25%                   97.580000  \n",
       "50%                  197.830000  \n",
       "75%                  311.900000  \n",
       "max                 5391.580000  "
      ]
     },
     "execution_count": 13,
     "metadata": {},
     "output_type": "execute_result"
    }
   ],
   "source": [
    "#Se muestra la informacion estadística\n",
    "df.describe()"
   ]
  },
  {
   "cell_type": "code",
   "execution_count": 14,
   "metadata": {},
   "outputs": [
    {
     "data": {
      "text/html": [
       "<div>\n",
       "<style scoped>\n",
       "    .dataframe tbody tr th:only-of-type {\n",
       "        vertical-align: middle;\n",
       "    }\n",
       "\n",
       "    .dataframe tbody tr th {\n",
       "        vertical-align: top;\n",
       "    }\n",
       "\n",
       "    .dataframe thead th {\n",
       "        text-align: right;\n",
       "    }\n",
       "</style>\n",
       "<table border=\"1\" class=\"dataframe\">\n",
       "  <thead>\n",
       "    <tr style=\"text-align: right;\">\n",
       "      <th></th>\n",
       "      <th>Gradojerarquicooescalaalqueperteneceelpuesto</th>\n",
       "      <th>Remuneracionmensualunificada</th>\n",
       "      <th>Remuneracionunificadaanual</th>\n",
       "      <th>DecimoTerceraRemuneracion</th>\n",
       "      <th>DecimaCuartaRemuneracion</th>\n",
       "      <th>Horassuplementariasyextraordinarias</th>\n",
       "      <th>Encargosysubrogaciones</th>\n",
       "      <th>Totalingresosadicionales</th>\n",
       "    </tr>\n",
       "  </thead>\n",
       "  <tbody>\n",
       "    <tr>\n",
       "      <th>Gradojerarquicooescalaalqueperteneceelpuesto</th>\n",
       "      <td>1.000000</td>\n",
       "      <td>0.794999</td>\n",
       "      <td>0.794999</td>\n",
       "      <td>0.792869</td>\n",
       "      <td>-0.014162</td>\n",
       "      <td>0.144326</td>\n",
       "      <td>0.337541</td>\n",
       "      <td>0.562197</td>\n",
       "    </tr>\n",
       "    <tr>\n",
       "      <th>Remuneracionmensualunificada</th>\n",
       "      <td>0.794999</td>\n",
       "      <td>1.000000</td>\n",
       "      <td>1.000000</td>\n",
       "      <td>0.989889</td>\n",
       "      <td>-0.009767</td>\n",
       "      <td>0.126538</td>\n",
       "      <td>0.002480</td>\n",
       "      <td>0.327985</td>\n",
       "    </tr>\n",
       "    <tr>\n",
       "      <th>Remuneracionunificadaanual</th>\n",
       "      <td>0.794999</td>\n",
       "      <td>1.000000</td>\n",
       "      <td>1.000000</td>\n",
       "      <td>0.989889</td>\n",
       "      <td>-0.009767</td>\n",
       "      <td>0.126538</td>\n",
       "      <td>0.002480</td>\n",
       "      <td>0.327985</td>\n",
       "    </tr>\n",
       "    <tr>\n",
       "      <th>DecimoTerceraRemuneracion</th>\n",
       "      <td>0.792869</td>\n",
       "      <td>0.989889</td>\n",
       "      <td>0.989889</td>\n",
       "      <td>1.000000</td>\n",
       "      <td>0.009501</td>\n",
       "      <td>0.258905</td>\n",
       "      <td>-0.003309</td>\n",
       "      <td>0.384587</td>\n",
       "    </tr>\n",
       "    <tr>\n",
       "      <th>DecimaCuartaRemuneracion</th>\n",
       "      <td>-0.014162</td>\n",
       "      <td>-0.009767</td>\n",
       "      <td>-0.009767</td>\n",
       "      <td>0.009501</td>\n",
       "      <td>1.000000</td>\n",
       "      <td>0.009773</td>\n",
       "      <td>0.009917</td>\n",
       "      <td>0.016238</td>\n",
       "    </tr>\n",
       "    <tr>\n",
       "      <th>Horassuplementariasyextraordinarias</th>\n",
       "      <td>0.144326</td>\n",
       "      <td>0.126538</td>\n",
       "      <td>0.126538</td>\n",
       "      <td>0.258905</td>\n",
       "      <td>0.009773</td>\n",
       "      <td>1.000000</td>\n",
       "      <td>-0.040982</td>\n",
       "      <td>0.479533</td>\n",
       "    </tr>\n",
       "    <tr>\n",
       "      <th>Encargosysubrogaciones</th>\n",
       "      <td>0.337541</td>\n",
       "      <td>0.002480</td>\n",
       "      <td>0.002480</td>\n",
       "      <td>-0.003309</td>\n",
       "      <td>0.009917</td>\n",
       "      <td>-0.040982</td>\n",
       "      <td>1.000000</td>\n",
       "      <td>0.816734</td>\n",
       "    </tr>\n",
       "    <tr>\n",
       "      <th>Totalingresosadicionales</th>\n",
       "      <td>0.562197</td>\n",
       "      <td>0.327985</td>\n",
       "      <td>0.327985</td>\n",
       "      <td>0.384587</td>\n",
       "      <td>0.016238</td>\n",
       "      <td>0.479533</td>\n",
       "      <td>0.816734</td>\n",
       "      <td>1.000000</td>\n",
       "    </tr>\n",
       "  </tbody>\n",
       "</table>\n",
       "</div>"
      ],
      "text/plain": [
       "                                              Gradojerarquicooescalaalqueperteneceelpuesto  \\\n",
       "Gradojerarquicooescalaalqueperteneceelpuesto                                      1.000000   \n",
       "Remuneracionmensualunificada                                                      0.794999   \n",
       "Remuneracionunificadaanual                                                        0.794999   \n",
       "DecimoTerceraRemuneracion                                                         0.792869   \n",
       "DecimaCuartaRemuneracion                                                         -0.014162   \n",
       "Horassuplementariasyextraordinarias                                               0.144326   \n",
       "Encargosysubrogaciones                                                            0.337541   \n",
       "Totalingresosadicionales                                                          0.562197   \n",
       "\n",
       "                                              Remuneracionmensualunificada  \\\n",
       "Gradojerarquicooescalaalqueperteneceelpuesto                      0.794999   \n",
       "Remuneracionmensualunificada                                      1.000000   \n",
       "Remuneracionunificadaanual                                        1.000000   \n",
       "DecimoTerceraRemuneracion                                         0.989889   \n",
       "DecimaCuartaRemuneracion                                         -0.009767   \n",
       "Horassuplementariasyextraordinarias                               0.126538   \n",
       "Encargosysubrogaciones                                            0.002480   \n",
       "Totalingresosadicionales                                          0.327985   \n",
       "\n",
       "                                              Remuneracionunificadaanual  \\\n",
       "Gradojerarquicooescalaalqueperteneceelpuesto                    0.794999   \n",
       "Remuneracionmensualunificada                                    1.000000   \n",
       "Remuneracionunificadaanual                                      1.000000   \n",
       "DecimoTerceraRemuneracion                                       0.989889   \n",
       "DecimaCuartaRemuneracion                                       -0.009767   \n",
       "Horassuplementariasyextraordinarias                             0.126538   \n",
       "Encargosysubrogaciones                                          0.002480   \n",
       "Totalingresosadicionales                                        0.327985   \n",
       "\n",
       "                                              DecimoTerceraRemuneracion  \\\n",
       "Gradojerarquicooescalaalqueperteneceelpuesto                   0.792869   \n",
       "Remuneracionmensualunificada                                   0.989889   \n",
       "Remuneracionunificadaanual                                     0.989889   \n",
       "DecimoTerceraRemuneracion                                      1.000000   \n",
       "DecimaCuartaRemuneracion                                       0.009501   \n",
       "Horassuplementariasyextraordinarias                            0.258905   \n",
       "Encargosysubrogaciones                                        -0.003309   \n",
       "Totalingresosadicionales                                       0.384587   \n",
       "\n",
       "                                              DecimaCuartaRemuneracion  \\\n",
       "Gradojerarquicooescalaalqueperteneceelpuesto                 -0.014162   \n",
       "Remuneracionmensualunificada                                 -0.009767   \n",
       "Remuneracionunificadaanual                                   -0.009767   \n",
       "DecimoTerceraRemuneracion                                     0.009501   \n",
       "DecimaCuartaRemuneracion                                      1.000000   \n",
       "Horassuplementariasyextraordinarias                           0.009773   \n",
       "Encargosysubrogaciones                                        0.009917   \n",
       "Totalingresosadicionales                                      0.016238   \n",
       "\n",
       "                                              Horassuplementariasyextraordinarias  \\\n",
       "Gradojerarquicooescalaalqueperteneceelpuesto                             0.144326   \n",
       "Remuneracionmensualunificada                                             0.126538   \n",
       "Remuneracionunificadaanual                                               0.126538   \n",
       "DecimoTerceraRemuneracion                                                0.258905   \n",
       "DecimaCuartaRemuneracion                                                 0.009773   \n",
       "Horassuplementariasyextraordinarias                                      1.000000   \n",
       "Encargosysubrogaciones                                                  -0.040982   \n",
       "Totalingresosadicionales                                                 0.479533   \n",
       "\n",
       "                                              Encargosysubrogaciones  \\\n",
       "Gradojerarquicooescalaalqueperteneceelpuesto                0.337541   \n",
       "Remuneracionmensualunificada                                0.002480   \n",
       "Remuneracionunificadaanual                                  0.002480   \n",
       "DecimoTerceraRemuneracion                                  -0.003309   \n",
       "DecimaCuartaRemuneracion                                    0.009917   \n",
       "Horassuplementariasyextraordinarias                        -0.040982   \n",
       "Encargosysubrogaciones                                      1.000000   \n",
       "Totalingresosadicionales                                    0.816734   \n",
       "\n",
       "                                              Totalingresosadicionales  \n",
       "Gradojerarquicooescalaalqueperteneceelpuesto                  0.562197  \n",
       "Remuneracionmensualunificada                                  0.327985  \n",
       "Remuneracionunificadaanual                                    0.327985  \n",
       "DecimoTerceraRemuneracion                                     0.384587  \n",
       "DecimaCuartaRemuneracion                                      0.016238  \n",
       "Horassuplementariasyextraordinarias                           0.479533  \n",
       "Encargosysubrogaciones                                        0.816734  \n",
       "Totalingresosadicionales                                      1.000000  "
      ]
     },
     "execution_count": 14,
     "metadata": {},
     "output_type": "execute_result"
    }
   ],
   "source": [
    "#Se muestra las variables con su coeficiente de correlación con las demas variables\n",
    "df.corr()"
   ]
  },
  {
   "cell_type": "markdown",
   "metadata": {},
   "source": [
    "#### Modelo de regresion lineal multivariable y una variable\n",
    "***\n"
   ]
  },
  {
   "cell_type": "code",
   "execution_count": 15,
   "metadata": {},
   "outputs": [],
   "source": [
    "# Importamaos las bibliotecas necesarias para poder utilizar la biblioteca de  regresion lineal\n",
    "from sklearn.linear_model import LinearRegression\n",
    "from sklearn.model_selection import train_test_split"
   ]
  },
  {
   "cell_type": "code",
   "execution_count": 16,
   "metadata": {},
   "outputs": [],
   "source": [
    "# Definimos las variables con el mas bajo valor de correlación para poder apreciar cual es el comportamiento del dataset con\n",
    "# estos valores y lo compararemos si utilizamos un solo valor con un alto valor de corelación\n",
    "x=np.asarray(df[[\"Totalingresosadicionales\",\"Gradojerarquicooescalaalqueperteneceelpuesto\",\"Horassuplementariasyextraordinarias\"]])\n",
    "y=np.asarray(df[\"Remuneracionunificadaanual\"])"
   ]
  },
  {
   "cell_type": "code",
   "execution_count": 17,
   "metadata": {},
   "outputs": [],
   "source": [
    "#Definimos los conjuntos de entrenamiento y prueba\n",
    "xtrain,xtest,ytrain,ytest=train_test_split(x,y,train_size=0.70,test_size=0.30,random_state=101)"
   ]
  },
  {
   "cell_type": "code",
   "execution_count": 18,
   "metadata": {},
   "outputs": [
    {
     "name": "stdout",
     "output_type": "stream",
     "text": [
      "Conjunto Entrenamiento : (7194, 3) (7194,)\n",
      "conjunto Prueba:  (3084, 3) (3084,)\n"
     ]
    }
   ],
   "source": [
    "# Imprimimos el número de elementos del conjunto de entrenamiento y prueba\n",
    "print(\"Conjunto Entrenamiento :\", xtrain.shape,ytrain.shape)\n",
    "print(\"conjunto Prueba: \",xtest.shape,ytest.shape)"
   ]
  },
  {
   "cell_type": "code",
   "execution_count": 20,
   "metadata": {},
   "outputs": [],
   "source": [
    "# Almacenamos en una variable el metodo para regresión lineal \n",
    "lm=LinearRegression()"
   ]
  },
  {
   "cell_type": "code",
   "execution_count": 21,
   "metadata": {},
   "outputs": [
    {
     "data": {
      "text/plain": [
       "LinearRegression(copy_X=True, fit_intercept=True, n_jobs=None,\n",
       "         normalize=False)"
      ]
     },
     "execution_count": 21,
     "metadata": {},
     "output_type": "execute_result"
    }
   ],
   "source": [
    "# Entrenamos el modelo con el conjunto de entrenamiento\n",
    "lm.fit(xtrain,ytrain)"
   ]
  },
  {
   "cell_type": "code",
   "execution_count": 22,
   "metadata": {},
   "outputs": [],
   "source": [
    "# Definimos la hipotesis \n",
    "h=lm.predict(xtest)"
   ]
  },
  {
   "cell_type": "code",
   "execution_count": 23,
   "metadata": {},
   "outputs": [],
   "source": [
    "# Importamos las bibliotecas para el error medio cuadratico\n",
    "from sklearn.metrics import mean_squared_error"
   ]
  },
  {
   "cell_type": "code",
   "execution_count": 24,
   "metadata": {},
   "outputs": [
    {
     "name": "stdout",
     "output_type": "stream",
     "text": [
      "el error cuadratico medio del precio y  hipotesis es : 56049711.51647666\n"
     ]
    }
   ],
   "source": [
    "# utilizamos la biblioteca para calcular el error medio en función de la hipotesisi y el conjunto de prueba\n",
    "mse2 = mean_squared_error(ytest,h)\n",
    "print(\"el error cuadratico medio del precio y  hipotesis es :\",mse2)"
   ]
  },
  {
   "cell_type": "code",
   "execution_count": 25,
   "metadata": {},
   "outputs": [],
   "source": [
    "import seaborn as sns\n",
    "import matplotlib.pyplot as plt"
   ]
  },
  {
   "cell_type": "code",
   "execution_count": 33,
   "metadata": {},
   "outputs": [
    {
     "data": {
      "image/png": "[encoded data removed]",
      "text/plain": [
       "<Figure size 432x288 with 1 Axes>"
      ]
     },
     "metadata": {
      "needs_background": "light"
     },
     "output_type": "display_data"
    }
   ],
   "source": [
    "grafica=sns.distplot(ytrain,hist=False, color=\"r\",label=\"Salida-Real\")#precio real\n",
    "sns.distplot(h,hist=False,color=\"b\",label=\"Valores Estimados\",ax=grafica)#hipotesis ax para que esten sobrelapadas\n",
    "\n",
    "## si colocamos tRUE dibujamos barras \n",
    "\n",
    "#Detalles de etiquetado\n",
    "plt.title(\"Valores reales ajustados a valores estimados\")\n",
    "plt.xlabel(\"Pago unificado anual\")\n",
    "plt.ylabel(\"Cantidad de personas\")\n",
    "plt.show()"
   ]
  },
  {
   "cell_type": "code",
   "execution_count": 27,
   "metadata": {},
   "outputs": [],
   "source": [
    "## Valor mas alto se utilizo la caracteristica con el valor de corelación mas alto debido a un erro se debio utilizar \n",
    "# la variable del valor mas bajo de corelación\n",
    "xa=np.asarray(df[[\"DecimoTerceraRemuneracion\",\"DecimaCuartaRemuneracion\"]])\n",
    "ya=np.asarray(df[\"Remuneracionunificadaanual\"])"
   ]
  },
  {
   "cell_type": "code",
   "execution_count": 28,
   "metadata": {},
   "outputs": [],
   "source": [
    "# dividimos el conjunto de datos en entrenamiento y prueba\n",
    "xtraina,xtesta,ytraina,ytesta=train_test_split(xa,ya,train_size=0.70,test_size=0.30,random_state=101)"
   ]
  },
  {
   "cell_type": "code",
   "execution_count": 29,
   "metadata": {},
   "outputs": [
    {
     "data": {
      "text/plain": [
       "LinearRegression(copy_X=True, fit_intercept=True, n_jobs=None,\n",
       "         normalize=False)"
      ]
     },
     "execution_count": 29,
     "metadata": {},
     "output_type": "execute_result"
    }
   ],
   "source": [
    "# definimos en una variable el modelo de regresión lineal\n",
    "lma=LinearRegression()\n",
    "#entrenamos el modelo en base a las caracteristicas seleccionadas\n",
    "lma.fit(xa,ya)"
   ]
  },
  {
   "cell_type": "code",
   "execution_count": 30,
   "metadata": {},
   "outputs": [],
   "source": [
    "# Calculamos los valores de la hipotesis\n",
    "ha=lma.predict(xtesta)"
   ]
  },
  {
   "cell_type": "code",
   "execution_count": 31,
   "metadata": {},
   "outputs": [
    {
     "name": "stdout",
     "output_type": "stream",
     "text": [
      "el error cuadratico medio del precio y  hipotesis es : 2846327.180020168\n"
     ]
    }
   ],
   "source": [
    "# Calculamos el error medio cuadratico\n",
    "msea = mean_squared_error(ytesta,ha)\n",
    "print(\"el error cuadratico medio del precio y  hipotesis es :\",msea)"
   ]
  },
  {
   "cell_type": "code",
   "execution_count": 34,
   "metadata": {},
   "outputs": [
    {
     "data": {
      "image/png": "[encoded data removed]",
      "text/plain": [
       "<Figure size 432x288 with 1 Axes>"
      ]
     },
     "metadata": {
      "needs_background": "light"
     },
     "output_type": "display_data"
    }
   ],
   "source": [
    "grafica=sns.distplot(ytraina,hist=False, color=\"r\",label=\"Salida-Real\")#precio real\n",
    "sns.distplot(ha,hist=False,color=\"b\",label=\"Valores Estimados\",ax=grafica)#hipotesis ax para que esten sobrelapadas\n",
    "\n",
    "## si colocamos tRUE dibujamos barras \n",
    "\n",
    "#Detalles de etiquetado\n",
    "plt.title(\"Valores reales ajustados a valores estimados\")\n",
    "plt.xlabel(\"Pago unificado anual\")\n",
    "plt.ylabel(\"Cantidad de personas\")\n",
    "plt.show()"
   ]
  },
  {
   "cell_type": "markdown",
   "metadata": {},
   "source": [
    "***"
   ]
  },
  {
   "cell_type": "markdown",
   "metadata": {},
   "source": [
    "#### Modelo de regresion polinomial, aumento de caracteristicas\n"
   ]
  },
  {
   "cell_type": "code",
   "execution_count": 34,
   "metadata": {},
   "outputs": [
    {
     "data": {
      "text/html": [
       "<div>\n",
       "<style scoped>\n",
       "    .dataframe tbody tr th:only-of-type {\n",
       "        vertical-align: middle;\n",
       "    }\n",
       "\n",
       "    .dataframe tbody tr th {\n",
       "        vertical-align: top;\n",
       "    }\n",
       "\n",
       "    .dataframe thead th {\n",
       "        text-align: right;\n",
       "    }\n",
       "</style>\n",
       "<table border=\"1\" class=\"dataframe\">\n",
       "  <thead>\n",
       "    <tr style=\"text-align: right;\">\n",
       "      <th></th>\n",
       "      <th>Gradojerarquicooescalaalqueperteneceelpuesto</th>\n",
       "      <th>Remuneracionmensualunificada</th>\n",
       "      <th>Remuneracionunificadaanual</th>\n",
       "      <th>DecimoTerceraRemuneracion</th>\n",
       "      <th>DecimaCuartaRemuneracion</th>\n",
       "      <th>Horassuplementariasyextraordinarias</th>\n",
       "      <th>Encargosysubrogaciones</th>\n",
       "      <th>Totalingresosadicionales</th>\n",
       "    </tr>\n",
       "  </thead>\n",
       "  <tbody>\n",
       "    <tr>\n",
       "      <th>Gradojerarquicooescalaalqueperteneceelpuesto</th>\n",
       "      <td>1.000000</td>\n",
       "      <td>0.794999</td>\n",
       "      <td>0.794999</td>\n",
       "      <td>0.792869</td>\n",
       "      <td>-0.014162</td>\n",
       "      <td>0.144326</td>\n",
       "      <td>0.337541</td>\n",
       "      <td>0.562197</td>\n",
       "    </tr>\n",
       "    <tr>\n",
       "      <th>Remuneracionmensualunificada</th>\n",
       "      <td>0.794999</td>\n",
       "      <td>1.000000</td>\n",
       "      <td>1.000000</td>\n",
       "      <td>0.989889</td>\n",
       "      <td>-0.009767</td>\n",
       "      <td>0.126538</td>\n",
       "      <td>0.002480</td>\n",
       "      <td>0.327985</td>\n",
       "    </tr>\n",
       "    <tr>\n",
       "      <th>Remuneracionunificadaanual</th>\n",
       "      <td>0.794999</td>\n",
       "      <td>1.000000</td>\n",
       "      <td>1.000000</td>\n",
       "      <td>0.989889</td>\n",
       "      <td>-0.009767</td>\n",
       "      <td>0.126538</td>\n",
       "      <td>0.002480</td>\n",
       "      <td>0.327985</td>\n",
       "    </tr>\n",
       "    <tr>\n",
       "      <th>DecimoTerceraRemuneracion</th>\n",
       "      <td>0.792869</td>\n",
       "      <td>0.989889</td>\n",
       "      <td>0.989889</td>\n",
       "      <td>1.000000</td>\n",
       "      <td>0.009501</td>\n",
       "      <td>0.258905</td>\n",
       "      <td>-0.003309</td>\n",
       "      <td>0.384587</td>\n",
       "    </tr>\n",
       "    <tr>\n",
       "      <th>DecimaCuartaRemuneracion</th>\n",
       "      <td>-0.014162</td>\n",
       "      <td>-0.009767</td>\n",
       "      <td>-0.009767</td>\n",
       "      <td>0.009501</td>\n",
       "      <td>1.000000</td>\n",
       "      <td>0.009773</td>\n",
       "      <td>0.009917</td>\n",
       "      <td>0.016238</td>\n",
       "    </tr>\n",
       "    <tr>\n",
       "      <th>Horassuplementariasyextraordinarias</th>\n",
       "      <td>0.144326</td>\n",
       "      <td>0.126538</td>\n",
       "      <td>0.126538</td>\n",
       "      <td>0.258905</td>\n",
       "      <td>0.009773</td>\n",
       "      <td>1.000000</td>\n",
       "      <td>-0.040982</td>\n",
       "      <td>0.479533</td>\n",
       "    </tr>\n",
       "    <tr>\n",
       "      <th>Encargosysubrogaciones</th>\n",
       "      <td>0.337541</td>\n",
       "      <td>0.002480</td>\n",
       "      <td>0.002480</td>\n",
       "      <td>-0.003309</td>\n",
       "      <td>0.009917</td>\n",
       "      <td>-0.040982</td>\n",
       "      <td>1.000000</td>\n",
       "      <td>0.816734</td>\n",
       "    </tr>\n",
       "    <tr>\n",
       "      <th>Totalingresosadicionales</th>\n",
       "      <td>0.562197</td>\n",
       "      <td>0.327985</td>\n",
       "      <td>0.327985</td>\n",
       "      <td>0.384587</td>\n",
       "      <td>0.016238</td>\n",
       "      <td>0.479533</td>\n",
       "      <td>0.816734</td>\n",
       "      <td>1.000000</td>\n",
       "    </tr>\n",
       "  </tbody>\n",
       "</table>\n",
       "</div>"
      ],
      "text/plain": [
       "                                              Gradojerarquicooescalaalqueperteneceelpuesto  \\\n",
       "Gradojerarquicooescalaalqueperteneceelpuesto                                      1.000000   \n",
       "Remuneracionmensualunificada                                                      0.794999   \n",
       "Remuneracionunificadaanual                                                        0.794999   \n",
       "DecimoTerceraRemuneracion                                                         0.792869   \n",
       "DecimaCuartaRemuneracion                                                         -0.014162   \n",
       "Horassuplementariasyextraordinarias                                               0.144326   \n",
       "Encargosysubrogaciones                                                            0.337541   \n",
       "Totalingresosadicionales                                                          0.562197   \n",
       "\n",
       "                                              Remuneracionmensualunificada  \\\n",
       "Gradojerarquicooescalaalqueperteneceelpuesto                      0.794999   \n",
       "Remuneracionmensualunificada                                      1.000000   \n",
       "Remuneracionunificadaanual                                        1.000000   \n",
       "DecimoTerceraRemuneracion                                         0.989889   \n",
       "DecimaCuartaRemuneracion                                         -0.009767   \n",
       "Horassuplementariasyextraordinarias                               0.126538   \n",
       "Encargosysubrogaciones                                            0.002480   \n",
       "Totalingresosadicionales                                          0.327985   \n",
       "\n",
       "                                              Remuneracionunificadaanual  \\\n",
       "Gradojerarquicooescalaalqueperteneceelpuesto                    0.794999   \n",
       "Remuneracionmensualunificada                                    1.000000   \n",
       "Remuneracionunificadaanual                                      1.000000   \n",
       "DecimoTerceraRemuneracion                                       0.989889   \n",
       "DecimaCuartaRemuneracion                                       -0.009767   \n",
       "Horassuplementariasyextraordinarias                             0.126538   \n",
       "Encargosysubrogaciones                                          0.002480   \n",
       "Totalingresosadicionales                                        0.327985   \n",
       "\n",
       "                                              DecimoTerceraRemuneracion  \\\n",
       "Gradojerarquicooescalaalqueperteneceelpuesto                   0.792869   \n",
       "Remuneracionmensualunificada                                   0.989889   \n",
       "Remuneracionunificadaanual                                     0.989889   \n",
       "DecimoTerceraRemuneracion                                      1.000000   \n",
       "DecimaCuartaRemuneracion                                       0.009501   \n",
       "Horassuplementariasyextraordinarias                            0.258905   \n",
       "Encargosysubrogaciones                                        -0.003309   \n",
       "Totalingresosadicionales                                       0.384587   \n",
       "\n",
       "                                              DecimaCuartaRemuneracion  \\\n",
       "Gradojerarquicooescalaalqueperteneceelpuesto                 -0.014162   \n",
       "Remuneracionmensualunificada                                 -0.009767   \n",
       "Remuneracionunificadaanual                                   -0.009767   \n",
       "DecimoTerceraRemuneracion                                     0.009501   \n",
       "DecimaCuartaRemuneracion                                      1.000000   \n",
       "Horassuplementariasyextraordinarias                           0.009773   \n",
       "Encargosysubrogaciones                                        0.009917   \n",
       "Totalingresosadicionales                                      0.016238   \n",
       "\n",
       "                                              Horassuplementariasyextraordinarias  \\\n",
       "Gradojerarquicooescalaalqueperteneceelpuesto                             0.144326   \n",
       "Remuneracionmensualunificada                                             0.126538   \n",
       "Remuneracionunificadaanual                                               0.126538   \n",
       "DecimoTerceraRemuneracion                                                0.258905   \n",
       "DecimaCuartaRemuneracion                                                 0.009773   \n",
       "Horassuplementariasyextraordinarias                                      1.000000   \n",
       "Encargosysubrogaciones                                                  -0.040982   \n",
       "Totalingresosadicionales                                                 0.479533   \n",
       "\n",
       "                                              Encargosysubrogaciones  \\\n",
       "Gradojerarquicooescalaalqueperteneceelpuesto                0.337541   \n",
       "Remuneracionmensualunificada                                0.002480   \n",
       "Remuneracionunificadaanual                                  0.002480   \n",
       "DecimoTerceraRemuneracion                                  -0.003309   \n",
       "DecimaCuartaRemuneracion                                    0.009917   \n",
       "Horassuplementariasyextraordinarias                        -0.040982   \n",
       "Encargosysubrogaciones                                      1.000000   \n",
       "Totalingresosadicionales                                    0.816734   \n",
       "\n",
       "                                              Totalingresosadicionales  \n",
       "Gradojerarquicooescalaalqueperteneceelpuesto                  0.562197  \n",
       "Remuneracionmensualunificada                                  0.327985  \n",
       "Remuneracionunificadaanual                                    0.327985  \n",
       "DecimoTerceraRemuneracion                                     0.384587  \n",
       "DecimaCuartaRemuneracion                                      0.016238  \n",
       "Horassuplementariasyextraordinarias                           0.479533  \n",
       "Encargosysubrogaciones                                        0.816734  \n",
       "Totalingresosadicionales                                      1.000000  "
      ]
     },
     "execution_count": 34,
     "metadata": {},
     "output_type": "execute_result"
    }
   ],
   "source": [
    "#Se miran las correlaciones para seleccionar variables de entrada\n",
    "df.corr()"
   ]
  },
  {
   "cell_type": "code",
   "execution_count": null,
   "metadata": {},
   "outputs": [],
   "source": [
    "#Se hace la grafica de dispersion y residual de las 3 variables mas relacionadas a la etiqueta para ver si se puede realizar un sobreajuste si la tendencia de los puntos tiende a no ser lineal\n"
   ]
  },
  {
   "cell_type": "code",
   "execution_count": 76,
   "metadata": {},
   "outputs": [
    {
     "data": {
      "text/plain": [
       "<AxesSubplot:xlabel='Encargosysubrogaciones', ylabel='Totalingresosadicionales'>"
      ]
     },
     "execution_count": 76,
     "metadata": {},
     "output_type": "execute_result"
    },
    {
     "data": {
      "image/png": "[encoded data removed]",
      "text/plain": [
       "<Figure size 432x288 with 1 Axes>"
      ]
     },
     "metadata": {
      "needs_background": "light"
     },
     "output_type": "display_data"
    }
   ],
   "source": [
    "#grafica dispersion Encargosysubrogaciones,Totalingresosadicionales\n",
    "sns.regplot(x=\"Encargosysubrogaciones\",y=\"Totalingresosadicionales\",data=df)"
   ]
  },
  {
   "cell_type": "code",
   "execution_count": 85,
   "metadata": {},
   "outputs": [
    {
     "data": {
      "image/png": "[encoded data removed]",
      "text/plain": [
       "<Figure size 432x288 with 1 Axes>"
      ]
     },
     "metadata": {
      "needs_background": "light"
     },
     "output_type": "display_data"
    }
   ],
   "source": [
    "#grafica residual Encargosysubrogaciones,Totalingresosadicionales\n",
    "import seaborn as sns\n",
    "sns.residplot(df[\"Encargosysubrogaciones\"],df[\"Totalingresosadicionales\"])\n",
    "plt.show()"
   ]
  },
  {
   "cell_type": "code",
   "execution_count": 78,
   "metadata": {},
   "outputs": [
    {
     "data": {
      "text/plain": [
       "<AxesSubplot:xlabel='Gradojerarquicooescalaalqueperteneceelpuesto', ylabel='Totalingresosadicionales'>"
      ]
     },
     "execution_count": 78,
     "metadata": {},
     "output_type": "execute_result"
    },
    {
     "data": {
      "image/png": "[encoded data removed]",
      "text/plain": [
       "<Figure size 432x288 with 1 Axes>"
      ]
     },
     "metadata": {
      "needs_background": "light"
     },
     "output_type": "display_data"
    }
   ],
   "source": [
    "#grafica dispersion Gradojerarquicooescalaalqueperteneceelpuesto,Totalingresosadicionales\n",
    "sns.regplot(x=\"Gradojerarquicooescalaalqueperteneceelpuesto\",y=\"Totalingresosadicionales\",data=df)"
   ]
  },
  {
   "cell_type": "code",
   "execution_count": 83,
   "metadata": {},
   "outputs": [
    {
     "data": {
      "image/png": "[encoded data removed]",
      "text/plain": [
       "<Figure size 432x288 with 1 Axes>"
      ]
     },
     "metadata": {
      "needs_background": "light"
     },
     "output_type": "display_data"
    }
   ],
   "source": [
    "#grafica residual Gradojerarquicooescalaalqueperteneceelpuesto,Totalingresosadicionales\n",
    "sns.residplot(df[\"Gradojerarquicooescalaalqueperteneceelpuesto\"],df[\"Totalingresosadicionales\"])\n",
    "plt.show()"
   ]
  },
  {
   "cell_type": "code",
   "execution_count": 80,
   "metadata": {},
   "outputs": [
    {
     "data": {
      "text/plain": [
       "<AxesSubplot:xlabel='Horassuplementariasyextraordinarias', ylabel='Totalingresosadicionales'>"
      ]
     },
     "execution_count": 80,
     "metadata": {},
     "output_type": "execute_result"
    },
    {
     "data": {
      "image/png": "[encoded data removed]",
      "text/plain": [
       "<Figure size 432x288 with 1 Axes>"
      ]
     },
     "metadata": {
      "needs_background": "light"
     },
     "output_type": "display_data"
    }
   ],
   "source": [
    "#grafica dispersion Horassuplementariasyextraordinarias,Totalingresosadicionales\n",
    "sns.regplot(x=\"Horassuplementariasyextraordinarias\",y=\"Totalingresosadicionales\",data=df)"
   ]
  },
  {
   "cell_type": "code",
   "execution_count": 82,
   "metadata": {},
   "outputs": [
    {
     "data": {
      "image/png": "[encoded data removed]",
      "text/plain": [
       "<Figure size 432x288 with 1 Axes>"
      ]
     },
     "metadata": {
      "needs_background": "light"
     },
     "output_type": "display_data"
    }
   ],
   "source": [
    "#grafica residual Horassuplementariasyextraordinarias,Totalingresosadicionales\n",
    "sns.residplot(df[\"Horassuplementariasyextraordinarias\"],df[\"Totalingresosadicionales\"])\n",
    "plt.show()"
   ]
  },
  {
   "cell_type": "code",
   "execution_count": null,
   "metadata": {},
   "outputs": [],
   "source": [
    "#Para el modelo de regresion polinomial se hara uso de las 3 variables de las graficas ya que presentan buenas graficas de dispersión y residual. Ademas se\n",
    "#hara uso de aumento de caracteristicas con la funcion polinomial, esto con el fin de mejorar el modelo.\n",
    "#Por otro lado se utilizara validación cruzada para evaluar el rendimiento del modelo.\n",
    "#Tambien se utilizara regularizacion Ridge para disminuir los valores de theta y mejorar el modelo\n"
   ]
  },
  {
   "cell_type": "code",
   "execution_count": 44,
   "metadata": {},
   "outputs": [],
   "source": [
    "#Se normalizan la variables del dataset\n",
    "from sklearn.preprocessing import StandardScaler\n",
    "SCALE=StandardScaler()\n",
    "v_n=df[[\"Encargosysubrogaciones\",\"Gradojerarquicooescalaalqueperteneceelpuesto\",\"Horassuplementariasyextraordinarias\"]]"
   ]
  },
  {
   "cell_type": "code",
   "execution_count": 45,
   "metadata": {},
   "outputs": [
    {
     "name": "stderr",
     "output_type": "stream",
     "text": [
      "/home/jupyterlab/conda/envs/python/lib/python3.6/site-packages/sklearn/preprocessing/data.py:625: DataConversionWarning: Data with input dtype int64, float64 were all converted to float64 by StandardScaler.\n",
      "  return self.partial_fit(X, y)\n"
     ]
    },
    {
     "data": {
      "text/plain": [
       "StandardScaler(copy=True, with_mean=True, with_std=True)"
      ]
     },
     "execution_count": 45,
     "metadata": {},
     "output_type": "execute_result"
    }
   ],
   "source": [
    "SCALE.fit(v_n)"
   ]
  },
  {
   "cell_type": "code",
   "execution_count": 46,
   "metadata": {},
   "outputs": [
    {
     "name": "stderr",
     "output_type": "stream",
     "text": [
      "/home/jupyterlab/conda/envs/python/lib/python3.6/site-packages/ipykernel_launcher.py:2: DataConversionWarning: Data with input dtype int64, float64 were all converted to float64 by StandardScaler.\n",
      "  \n"
     ]
    }
   ],
   "source": [
    "#Se obtienen los nuevos valores normalizados\n",
    "x_normalizado=SCALE.transform(v_n)\n",
    "y_normalizado=(df[\"Totalingresosadicionales\"])"
   ]
  },
  {
   "cell_type": "code",
   "execution_count": 47,
   "metadata": {},
   "outputs": [
    {
     "name": "stdout",
     "output_type": "stream",
     "text": [
      "Numero de muestras de Prueba=  3084\n",
      "Numero de muestras de Entrenamiento=  7194\n"
     ]
    }
   ],
   "source": [
    "#Dividir el dataset\n",
    "from sklearn.model_selection import train_test_split\n",
    "xtrain,xtest,ytrain,ytest=train_test_split(x_normalizado,y_normalizado,train_size=0.70,test_size=0.30,random_state=101)\n",
    "print(\"Numero de muestras de Prueba= \",xtest.shape[0])\n",
    "print(\"Numero de muestras de Entrenamiento= \",xtrain.shape[0])"
   ]
  },
  {
   "cell_type": "code",
   "execution_count": 48,
   "metadata": {},
   "outputs": [
    {
     "data": {
      "text/plain": [
       "(3084, 3)"
      ]
     },
     "execution_count": 48,
     "metadata": {},
     "output_type": "execute_result"
    }
   ],
   "source": [
    "#Dimensiones de xtest\n",
    "xtest.shape"
   ]
  },
  {
   "cell_type": "code",
   "execution_count": 49,
   "metadata": {},
   "outputs": [
    {
     "data": {
      "text/plain": [
       "(3084,)"
      ]
     },
     "execution_count": 49,
     "metadata": {},
     "output_type": "execute_result"
    }
   ],
   "source": [
    "#Dimensiones de ytest\n",
    "ytest.shape"
   ]
  },
  {
   "cell_type": "code",
   "execution_count": 51,
   "metadata": {},
   "outputs": [],
   "source": [
    "#se crea el modelo de regresion lineal empleando funcion polinomial de grado 3\n",
    "from sklearn.preprocessing import PolynomialFeatures\n",
    "pr=PolynomialFeatures(degree=3)\n",
    "xtrain_pr=pr.fit_transform(xtrain)\n",
    "xtest_pr=pr.fit_transform(xtest)"
   ]
  },
  {
   "cell_type": "code",
   "execution_count": 52,
   "metadata": {},
   "outputs": [
    {
     "name": "stdout",
     "output_type": "stream",
     "text": [
      "Dimensiones de entrenamiento (7194, 20)\n",
      "Dimensiones de prueba (3084, 20)\n"
     ]
    }
   ],
   "source": [
    "#Dimensiones o numero de variables de entrada\n",
    "print(\"Dimensiones de entrenamiento\",xtrain_pr.shape)\n",
    "print(\"Dimensiones de prueba\",xtest_pr.shape)"
   ]
  },
  {
   "cell_type": "code",
   "execution_count": 54,
   "metadata": {},
   "outputs": [],
   "source": [
    "#Entrenar el algoritmo y definir la hipotesis\n",
    "from sklearn.linear_model import LinearRegression\n",
    "poly=LinearRegression().fit(xtrain_pr,ytrain)\n",
    "poly.fit(xtrain_pr,ytrain)\n",
    "h=poly.predict(xtest_pr)"
   ]
  },
  {
   "cell_type": "code",
   "execution_count": 55,
   "metadata": {},
   "outputs": [
    {
     "name": "stdout",
     "output_type": "stream",
     "text": [
      "El error cuadratico medio es:  1321.4284332512125\n"
     ]
    }
   ],
   "source": [
    "#Evaluar el modelo con MSE\n",
    "from sklearn.metrics import mean_squared_error,r2_score\n",
    "mse=mean_squared_error(ytest,h)\n",
    "print(\"El error cuadratico medio es: \",mse)"
   ]
  },
  {
   "cell_type": "code",
   "execution_count": 56,
   "metadata": {},
   "outputs": [
    {
     "name": "stdout",
     "output_type": "stream",
     "text": [
      "El factor R^2 es:  0.9873631174848144\n"
     ]
    }
   ],
   "source": [
    "#Evaluar el modelo con R^2\n",
    "r2=r2_score(ytest,h)\n",
    "print(\"El factor R^2 es: \",r2)"
   ]
  },
  {
   "cell_type": "code",
   "execution_count": 70,
   "metadata": {},
   "outputs": [
    {
     "data": {
      "image/png": "[encoded data removed]",
      "text/plain": [
       "<Figure size 432x288 with 1 Axes>"
      ]
     },
     "metadata": {
      "needs_background": "light"
     },
     "output_type": "display_data"
    }
   ],
   "source": [
    "#Se hace la grafica de distribucion para ver si el modelo predecirá bien\n",
    "import seaborn as sns\n",
    "#Graficar la salida para la regresion lineal para engine-size\n",
    "grafica=sns.distplot(ytest,hist=False,color=\"r\",label=\"Datos reales\")#False para que no se vean las lineas\n",
    "sns.distplot(h,hist=False,color=\"b\",label=\"Datos estimados\",ax=grafica)#ax para ver si estan sobrelapadas con la grafica\n",
    "\n",
    "#detalles de etiquetado\n",
    "plt.title(\"Valores reales ajustados a valores estimados\")\n",
    "plt.xlabel(\"Variables de entrada\")\n",
    "plt.ylabel(\"Total de ingresos adicionales\")\n",
    "plt.show()"
   ]
  },
  {
   "cell_type": "code",
   "execution_count": null,
   "metadata": {},
   "outputs": [],
   "source": [
    "#Como se puede ver en la grafica de distribucion, el modelo predice bien con respecto a los datos reales."
   ]
  },
  {
   "cell_type": "code",
   "execution_count": 68,
   "metadata": {},
   "outputs": [],
   "source": [
    "#Se aplica regularizacion para dismu¿inuir los parametros theta con el fin de disminuir el error o aumentar R^2\n",
    "from sklearn.linear_model import Ridge\n",
    "#Crear un lazo para evaluar el valor de R2_score\n",
    "R2_val=[]\n",
    "FACTOR_LAMBDA=[0.01,0.1,0.5,0.8,1,3,5,10,40]\n",
    "for factor in FACTOR_LAMBDA:\n",
    "    RidgeR1=Ridge(alpha=factor)\n",
    "    RidgeR1.fit(xtrain_pr,ytrain)\n",
    "    hR1=RidgeR1.predict(xtest_pr)\n",
    "    R2_val.append(r2_score(ytest,hR1))"
   ]
  },
  {
   "cell_type": "code",
   "execution_count": 69,
   "metadata": {},
   "outputs": [
    {
     "data": {
      "text/plain": [
       "<matplotlib.legend.Legend at 0x7f6706747630>"
      ]
     },
     "execution_count": 69,
     "metadata": {},
     "output_type": "execute_result"
    },
    {
     "data": {
      "image/png": "[encoded data removed]",
      "text/plain": [
       "<Figure size 864x720 with 1 Axes>"
      ]
     },
     "metadata": {
      "needs_background": "light"
     },
     "output_type": "display_data"
    }
   ],
   "source": [
    "#se grafica el factor labda para que el factor R^2 aumente\n",
    "import matplotlib.pyplot as plt\n",
    "width=12\n",
    "height=10\n",
    "plt.figure(figsize=(width,height))\n",
    "plt.plot(FACTOR_LAMBDA,R2_val,label=\"Datos de Prueba\")\n",
    "plt.xlabel(\"Lambda\")\n",
    "plt.ylabel(\"R^2\")\n",
    "plt.legend()"
   ]
  },
  {
   "cell_type": "code",
   "execution_count": null,
   "metadata": {},
   "outputs": [],
   "source": [
    "#Mediante la gafica se puede observar que mientras mas aumenta el valor de labda mas disminuye el rendimiento, es decir que no hace falta aplicar regularización."
   ]
  },
  {
   "cell_type": "markdown",
   "metadata": {},
   "source": [
    "##### Validacion cruzada"
   ]
  },
  {
   "cell_type": "code",
   "execution_count": 73,
   "metadata": {},
   "outputs": [],
   "source": [
    "from sklearn.model_selection import cross_val_score,cross_val_predict\n",
    "Lr=LinearRegression()\n",
    "#VC es una matriz que contiene los valores de evaluacion de cada iiteracion\n",
    "VC=cross_val_score(Lr,xtrain,ytrain,cv=8)#se divide en 4 segmentos y hace 4 iteraciones"
   ]
  },
  {
   "cell_type": "code",
   "execution_count": 74,
   "metadata": {},
   "outputs": [
    {
     "data": {
      "text/plain": [
       "array([0.97164744, 0.98117402, 0.98494903, 0.98040755, 0.97920627,\n",
       "       0.9794348 , 0.9801217 , 0.97983   ])"
      ]
     },
     "execution_count": 74,
     "metadata": {},
     "output_type": "execute_result"
    }
   ],
   "source": [
    "#Se imprime los valores calculados en cada iteracion\n",
    "VC"
   ]
  },
  {
   "cell_type": "code",
   "execution_count": 75,
   "metadata": {},
   "outputs": [
    {
     "name": "stdout",
     "output_type": "stream",
     "text": [
      "El promedio del rendimiento de las iteraciones es:  0.979596351668256\n"
     ]
    }
   ],
   "source": [
    "#Se imprime el promedio\n",
    "print(\"El promedio del rendimiento de las iteraciones es: \",VC.mean())"
   ]
  },
  {
   "cell_type": "code",
   "execution_count": null,
   "metadata": {},
   "outputs": [],
   "source": [
    "#Mediante la validacion cruzada se tuvo un mayor rendimiento que cuando se utilizó el conjunto de entrenamiento y prueba para validar,\n",
    "#Esto quiere decir que el porcentaje de rendimiento mostrado es mas confiable que con el conjunto train y test"
   ]
  }
 ],
 "metadata": {
  "kernelspec": {
   "display_name": "Python",
   "language": "python",
   "name": "conda-env-python-py"
  },
  "language_info": {
   "codemirror_mode": {
    "name": "ipython",
    "version": 3
   },
   "file_extension": ".py",
   "mimetype": "text/x-python",
   "name": "python",
   "nbconvert_exporter": "python",
   "pygments_lexer": "ipython3",
   "version": "3.6.12"
  }
 },
 "nbformat": 4,
 "nbformat_minor": 4
}
